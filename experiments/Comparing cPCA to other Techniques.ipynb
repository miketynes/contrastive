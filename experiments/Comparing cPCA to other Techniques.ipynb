{
 "cells": [
  {
   "cell_type": "markdown",
   "metadata": {},
   "source": [
    "# Load the Dataset"
   ]
  },
  {
   "cell_type": "code",
   "execution_count": 1,
   "metadata": {},
   "outputs": [],
   "source": [
    "import numpy as np\n",
    "import matplotlib.pyplot as plt\n",
    "import warnings\n",
    "from matplotlib.colors import ListedColormap\n",
    "%matplotlib inline\n",
    "warnings.filterwarnings('ignore')\n",
    "\n",
    "# for plotting\n",
    "cmap2 = ListedColormap(['r', 'k'])\n",
    "cmap4 = ListedColormap(['k', 'r', 'g', 'b'])"
   ]
  },
  {
   "cell_type": "markdown",
   "metadata": {},
   "source": [
    "## How to demonstrate the possible issue\n",
    "\n",
    "\n",
    "Very interested in this work and applying it to ours. We wanted the directions, noticed it wasnt implemented. Tried\n",
    "adding and heres what happened.\n",
    "\n",
    "Show:\n",
    "1. How we tried to extend the existing code to save pcs and corresponding variance ratios \n",
    "2. What we expected to see in here based on the plots vs what we actually saw\n",
    "3. Here is our chain of reasoning\n",
    "4. Here is what happens when we try sorting. \n",
    "\n",
    "Does our chain of reasoning sound correct or have we gone wrong? Do you have any suggestions? "
   ]
  },
  {
   "cell_type": "markdown",
   "metadata": {},
   "source": [
    "### Synthetic Dataset"
   ]
  },
  {
   "cell_type": "markdown",
   "metadata": {},
   "source": [
    "* There are 4 clusters in the target dataset (but we do not know their labels *a priori*. \n",
    "* In the background, all the data pts are from the same distribution, which has different variances in three subspaces."
   ]
  },
  {
   "cell_type": "code",
   "execution_count": 2,
   "metadata": {},
   "outputs": [],
   "source": [
    "from scipy.stats import ortho_group\n",
    "np.random.seed(0) # for reproducibility\n",
    "\n",
    "# In A there are four clusters.\n",
    "N = 400; D = 30; gap=1.5\n",
    "rotation = ortho_group.rvs(dim=D)\n",
    "\n",
    "target_ = np.zeros((N, D))\n",
    "target_[:,0:10] = np.random.normal(0,10,(N,10))\n",
    "# group 1\n",
    "target_[0:100, 10:20] = np.random.normal(-gap,1,(100,10))\n",
    "target_[0:100, 20:30] = np.random.normal(-gap,1,(100,10))\n",
    "# group 2\n",
    "target_[100:200, 10:20] = np.random.normal(-gap,1,(100,10))\n",
    "target_[100:200, 20:30] = np.random.normal(gap,1,(100,10))\n",
    "# group 3\n",
    "target_[200:300, 10:20] = np.random.normal(2*gap,1,(100,10))\n",
    "target_[200:300, 20:30] = np.random.normal(-gap,1,(100,10))\n",
    "# group 4\n",
    "target_[300:400, 10:20] = np.random.normal(2*gap,1,(100,10))\n",
    "target_[300:400, 20:30] = np.random.normal(gap,1,(100,10))\n",
    "target_ = target_.dot(rotation)\n",
    "sub_group_labels_ = [0]*100+[1]*100+[2]*100+[3]*100\n",
    "\n",
    "background_ = np.zeros((N, D))\n",
    "background_[:,0:10] = np.random.normal(0,10,(N,10))\n",
    "background_[:,10:20] = np.random.normal(0,3,(N,10))\n",
    "background_[:,20:30] = np.random.normal(0,1,(N,10))\n",
    "background_ = background_.dot(rotation)\n",
    "\n",
    "data_ = np.concatenate((background_, target_))\n",
    "labels_ = len(background_)*[0] + len(target_)*[1]"
   ]
  },
  {
   "cell_type": "markdown",
   "metadata": {},
   "source": [
    "### Mice Protein Dataset"
   ]
  },
  {
   "cell_type": "code",
   "execution_count": 3,
   "metadata": {},
   "outputs": [],
   "source": [
    "data = np.genfromtxt('datasets/Data_Cortex_Nuclear.csv',delimiter=',',\n",
    "                     skip_header=1,usecols=range(1,78),filling_values=0)\n",
    "classes = np.genfromtxt('datasets/Data_Cortex_Nuclear.csv',delimiter=',',\n",
    "                        skip_header=1,usecols=range(78,81),dtype=None)"
   ]
  },
  {
   "cell_type": "markdown",
   "metadata": {},
   "source": [
    "* Target consists of mice that have been stimulated by shock therapy. Some have Down Syndrome, others don't, but we assume this label is not known to us *a priori*\n",
    "* Background consists of mice that have not been stimulated by shock therapy, and do not have Down Syndrome"
   ]
  },
  {
   "cell_type": "code",
   "execution_count": 4,
   "metadata": {},
   "outputs": [],
   "source": [
    "target_idx_A = np.where((classes[:,-1]==b'S/C') & (classes[:,-2]==b'Saline') & (classes[:,-3]==b'Control'))[0]\n",
    "target_idx_B = np.where((classes[:,-1]==b'S/C') & (classes[:,-2]==b'Saline') & (classes[:,-3]==b'Ts65Dn'))[0]\n",
    "\n",
    "sub_group_labels = len(target_idx_A)*[0] + len(target_idx_B)*[1]\n",
    "target_idx = np.concatenate((target_idx_A,target_idx_B))                                                                          \n",
    "\n",
    "target = data[target_idx]\n",
    "target = (target-np.mean(target,axis=0)) / np.std(target,axis=0) # standardize the dataset\n",
    "\n",
    "background_idx = np.where((classes[:,-1]==b'C/S') & (classes[:,-2]==b'Saline') & (classes[:,-3]==b'Control'))\n",
    "# background_idx = np.where((classes[:,-1]==b'C/S') & (classes[:,-2]==b'Saline') & (classes[:,-3]==b'Ts65Dn'))\n",
    "background = data[background_idx]\n",
    "background = (background-np.mean(background,axis=0)) / np.std(background,axis=0) # standardize the dataset\n",
    "labels = len(background)*[0] + len(target)*[1]\n",
    "data = np.concatenate((background, target))"
   ]
  },
  {
   "cell_type": "markdown",
   "metadata": {},
   "source": [
    "# Comparing cPCA to Other Dimensionality Reduction Techniques"
   ]
  },
  {
   "cell_type": "markdown",
   "metadata": {},
   "source": [
    "### PCA and cPCA"
   ]
  },
  {
   "cell_type": "markdown",
   "metadata": {},
   "source": [
    "(PCA corresponds to the first column, since it is equivalent to cPCA with $\\alpha=0$)"
   ]
  },
  {
   "cell_type": "code",
   "execution_count": 9,
   "metadata": {},
   "outputs": [],
   "source": [
    "from contrastive import CPCA\n",
    "mdl = CPCA(n_components=data.shape[1])\n",
    "\n",
    "\n",
    "projected_data = mdl.fit_transform(target, background, active_labels=sub_group_labels)\n",
    "#projected_data_ = mdl.fit_transform(target_, background_, plot=True, active_labels=sub_group_labels_)"
   ]
  },
  {
   "cell_type": "code",
   "execution_count": 10,
   "metadata": {},
   "outputs": [
    {
     "data": {
      "text/plain": [
       "dict_keys([0.0, 0.1, 0.1266, 0.1604, 0.2031, 0.2572, 0.3257, 0.4125, 0.5223, 0.6615, 0.8377, 1.0608, 1.3434, 1.7013, 2.1544, 2.7283, 3.4551, 4.3755, 5.541, 7.017, 8.8862, 11.2534, 14.251, 18.0472, 22.8546, 28.9427, 36.6524, 46.4159, 58.7802, 74.438, 94.2668, 119.3777, 151.1775, 191.4482, 242.4462, 307.0291, 388.8155, 492.3883, 623.5507, 789.6523, 1000.0])"
      ]
     },
     "execution_count": 10,
     "metadata": {},
     "output_type": "execute_result"
    }
   ],
   "source": [
    "mdl.bases.keys()"
   ]
  },
  {
   "cell_type": "code",
   "execution_count": 11,
   "metadata": {},
   "outputs": [
    {
     "data": {
      "text/plain": [
       "{'variance_ratio': array([-1.01461215e-18,  5.96538890e-06,  9.88324307e-06,  1.59169408e-05,\n",
       "         1.84972298e-05,  2.26633783e-05,  2.70801084e-05,  2.94209642e-05,\n",
       "         3.53876410e-05,  3.76956841e-05,  4.08976236e-05,  4.42461250e-05,\n",
       "         5.34763015e-05,  5.84392181e-05,  6.82278377e-05,  7.39763171e-05,\n",
       "         9.04160746e-05,  1.00461931e-04,  1.06086274e-04,  1.14708665e-04,\n",
       "         1.24616456e-04,  1.29662241e-04,  1.42304658e-04,  1.55124717e-04,\n",
       "         1.55983224e-04,  1.71015604e-04,  1.96052456e-04,  2.01806457e-04,\n",
       "         2.10887451e-04,  2.45600571e-04,  2.72818559e-04,  2.94661560e-04,\n",
       "         3.02790220e-04,  3.27856552e-04,  3.38790768e-04,  4.15526776e-04,\n",
       "         4.24159268e-04,  4.54637503e-04,  4.93076314e-04,  5.08222513e-04,\n",
       "         6.03908940e-04,  6.53783513e-04,  7.25421184e-04,  7.52236039e-04,\n",
       "         7.83993507e-04,  8.51923213e-04,  9.37607309e-04,  1.07290998e-03,\n",
       "         1.21806014e-03,  1.40385854e-03,  1.41318140e-03,  1.52596951e-03,\n",
       "         1.70624529e-03,  1.77106201e-03,  1.97585002e-03,  2.05069701e-03,\n",
       "         2.49461767e-03,  2.76592767e-03,  3.07314183e-03,  3.41800507e-03,\n",
       "         4.38344582e-03,  4.73985317e-03,  5.31950757e-03,  6.59027112e-03,\n",
       "         7.57595396e-03,  8.47676304e-03,  1.02888631e-02,  1.24424650e-02,\n",
       "         1.65905860e-02,  1.87679893e-02,  4.48639308e-02,  6.06552481e-02,\n",
       "         6.83578028e-02,  1.01237627e-01,  1.28270647e-01,  1.92853602e-01,\n",
       "         2.70868004e-01]),\n",
       " 'basis': array([[ 4.05076295e-15, -2.62396293e-01, -9.79439718e-02, ...,\n",
       "          2.14728365e-01, -1.57517968e-02, -9.89404637e-02],\n",
       "        [ 5.76024852e-14, -2.03838299e-01, -2.31674187e-01, ...,\n",
       "          2.00709981e-01, -3.84783074e-02, -1.11935258e-01],\n",
       "        [ 1.98109349e-14, -1.30059124e-01,  1.10190065e-01, ...,\n",
       "         -4.05623078e-02, -5.23326732e-02, -1.94557058e-01],\n",
       "        ...,\n",
       "        [-3.62036267e-14,  3.39120399e-02, -7.06417494e-02, ...,\n",
       "          6.70614736e-02, -7.64488126e-02, -9.10714722e-03],\n",
       "        [ 1.48697364e-14, -4.41739857e-02,  8.37742016e-02, ...,\n",
       "         -8.56306801e-02, -9.88688841e-02,  1.16193089e-01],\n",
       "        [-1.01236291e-14,  5.24483502e-03,  5.17354343e-02, ...,\n",
       "          9.40175390e-02, -2.05352929e-01,  2.52028663e-02]])}"
      ]
     },
     "execution_count": 11,
     "metadata": {},
     "output_type": "execute_result"
    }
   ],
   "source": [
    "mdl.bases[789.6523]"
   ]
  },
  {
   "cell_type": "markdown",
   "metadata": {},
   "source": [
    "* PCA is unable to resolve the subgroups of interest in the mice data,  while cPCA is able to separate the 2 subgroups with an appropriate (and automatically discovered) value of $\\alpha$\n",
    "* PCA is unable to resolve the subgroups in the synthetic data, while cPCA is able to resolve all 4 with an appropriate (and automatically discovered) value of $\\alpha$. Alternative values of $\\alpha$ discover other itneresting projections."
   ]
  },
  {
   "cell_type": "markdown",
   "metadata": {},
   "source": [
    "### Linear Discriminant Analysis (LDA)"
   ]
  },
  {
   "cell_type": "markdown",
   "metadata": {},
   "source": [
    "Note: because LDA returns at most $c-1$ components, where $c$ is the number of classes in the data, in this case, the target data is projected onto exactly 1 dimension (the x-dimension). For ease of visualization, we assign a random value to the y-dimension of each data point, and plot them in 2 dimensions."
   ]
  },
  {
   "cell_type": "code",
   "execution_count": null,
   "metadata": {},
   "outputs": [],
   "source": [
    "from sklearn.discriminant_analysis import LinearDiscriminantAnalysis as LDA\n",
    "mdl = LDA()\n",
    "\n",
    "projected_data = mdl.fit(data, labels).transform(target)\n",
    "random_y_values = np.random.random(size=projected_data.shape)\n",
    "plt.figure()\n",
    "plt.scatter(projected_data, random_y_values, c=sub_group_labels, cmap=cmap2)\n",
    "plt.title('Linear Discriminant Analysis: Mice Data')\n",
    "\n",
    "projected_data_ = mdl.fit(data_, labels_).transform(target_)\n",
    "random_y_values_ = np.random.random(size=projected_data_.shape)\n",
    "plt.figure()\n",
    "plt.scatter(projected_data_, random_y_values_, c=sub_group_labels_, cmap=cmap4)\n",
    "plt.title('Linear Discriminant Analysis: Synthetic Data')"
   ]
  },
  {
   "cell_type": "markdown",
   "metadata": {},
   "source": [
    "* LDA is unable to resolve the subgroups of interest in the mice data\n",
    "* LDA is able to resolve the blue and black subgroups in the synthetic data, but not the red/green subgroups"
   ]
  },
  {
   "cell_type": "markdown",
   "metadata": {},
   "source": [
    "### Quadratic Discriminant Analysis (QDA)"
   ]
  },
  {
   "cell_type": "code",
   "execution_count": null,
   "metadata": {},
   "outputs": [],
   "source": [
    "from sklearn.discriminant_analysis import QuadraticDiscriminantAnalysis as QDA\n",
    "mdl = QDA()\n",
    "\n",
    "projected_data = mdl.fit(data, labels).predict_log_proba(target)[:,0]\n",
    "random_y_values = np.random.random(size=projected_data.shape)\n",
    "plt.figure()\n",
    "# print(projected_data.shape,random_y_values.shape)\n",
    "plt.scatter(projected_data, random_y_values, c=sub_group_labels, cmap=cmap2)\n",
    "plt.title('Linear Discriminant Analysis: Mice Data')\n",
    "\n",
    "projected_data_ = mdl.fit(data_, labels_).predict_log_proba(target_)[:,0]\n",
    "random_y_values_ = np.random.random(size=projected_data_.shape)\n",
    "plt.figure()\n",
    "plt.scatter(projected_data_, random_y_values_, c=sub_group_labels_, cmap=cmap4)\n",
    "plt.title('Linear Discriminant Analysis: Synthetic Data')"
   ]
  },
  {
   "cell_type": "markdown",
   "metadata": {},
   "source": [
    "### Supervised PCA"
   ]
  },
  {
   "cell_type": "code",
   "execution_count": null,
   "metadata": {},
   "outputs": [],
   "source": [
    "from supervised import SupervisedPCAClassifier\n",
    "\n",
    "mdl = SupervisedPCAClassifier(n_components=2)\n",
    "\n",
    "projected_data = mdl.fit(data, labels).get_transformed_data(target)\n",
    "plt.figure()\n",
    "plt.scatter(*projected_data.T, c=sub_group_labels, cmap=cmap2)\n",
    "plt.title('Supervised PCA: Mice Data')\n",
    "\n",
    "projected_data_ = mdl.fit(data_, labels_).get_transformed_data(target_)\n",
    "plt.figure()\n",
    "plt.scatter(*projected_data_.T, c=sub_group_labels_, cmap=cmap4)\n",
    "plt.title('Supervised PCA: Synthetic Data')"
   ]
  },
  {
   "cell_type": "markdown",
   "metadata": {},
   "source": [
    "* Supervised PCA is unable to resolve the subgroups of interest in the mice data\n",
    "* Supervised PCA is unable to resolve the subgroups in the synthetic data"
   ]
  },
  {
   "cell_type": "markdown",
   "metadata": {
    "collapsed": true
   },
   "source": [
    "### Multidimensional Scaling (MDS)"
   ]
  },
  {
   "cell_type": "code",
   "execution_count": null,
   "metadata": {},
   "outputs": [],
   "source": [
    "from sklearn.manifold import MDS\n",
    "np.random.seed(0) # for reproducibility\n",
    "\n",
    "mdl = MDS(n_components=2)\n",
    "projected_data = mdl.fit_transform(target)\n",
    "plt.figure()\n",
    "plt.scatter(*projected_data.T, c=sub_group_labels, cmap=cmap2)\n",
    "plt.title('Multidimensional Scaling: Mice Data')\n",
    "\n",
    "projected_data_ = mdl.fit_transform(target_)\n",
    "plt.figure()\n",
    "plt.scatter(*projected_data_.T, c=sub_group_labels_, cmap=cmap4)\n",
    "plt.title('Multidimensional Scaling: Synthetic Data')"
   ]
  },
  {
   "cell_type": "markdown",
   "metadata": {},
   "source": [
    "* MDS is mostly able to resolve the subgroups of interest in the mice data, although not as well as cPCA (if the same plot had been plotted without the subgroups colored differently, it would be harder to resolve the subgroups)\n",
    "* MDS is unable to resolve the subgroups in the synthetic data"
   ]
  },
  {
   "cell_type": "markdown",
   "metadata": {},
   "source": [
    "### Principal Component Pursuit"
   ]
  },
  {
   "cell_type": "code",
   "execution_count": null,
   "metadata": {},
   "outputs": [],
   "source": [
    "from pursuit import R_pca\n",
    "from sklearn.decomposition import PCA\n",
    "\n",
    "mdl = PCA(n_components=2) # this will be used to select the top 2 principal pursuit components\n",
    "\n",
    "rpca = R_pca(target)\n",
    "L, S = rpca.fit(max_iter=10000) #L is the low-rank structure we are interested in \n",
    "projected_data = mdl.fit_transform(L)\n",
    "plt.figure()\n",
    "plt.scatter(*projected_data.T, c=sub_group_labels, cmap=cmap2)\n",
    "\n",
    "rpca_ = R_pca(target_)\n",
    "L_, S_ = rpca_.fit(max_iter=10000) #L is the low-rank structure we are interested in \n",
    "projected_data_ = mdl.fit_transform(L_)\n",
    "plt.figure()\n",
    "plt.scatter(*projected_data_.T, c=sub_group_labels_, cmap=cmap4)"
   ]
  },
  {
   "cell_type": "markdown",
   "metadata": {},
   "source": [
    "* PCP is unable to resolve the subgroups of interest in the mice data (again, imagine if the subgroups had not been color-coded), although it does a better job than PCA\n",
    "* PCP is unable to resolve the subgroups in the synthetic data perfectly"
   ]
  },
  {
   "cell_type": "markdown",
   "metadata": {},
   "source": [
    "### Factor Analysis"
   ]
  },
  {
   "cell_type": "code",
   "execution_count": null,
   "metadata": {},
   "outputs": [],
   "source": [
    "from sklearn.decomposition import FactorAnalysis as FA\n",
    "\n",
    "mdl = FA(n_components=2)\n",
    "\n",
    "projected_data = mdl.fit_transform(target)\n",
    "plt.figure()\n",
    "plt.scatter(*projected_data.T, c=sub_group_labels, cmap=cmap2)\n",
    "plt.title('Factor Analysis: Mice Data')\n",
    "\n",
    "projected_data_ = mdl.fit_transform(target_)\n",
    "plt.figure()\n",
    "plt.scatter(*projected_data_.T, c=sub_group_labels_, cmap=cmap4)\n",
    "plt.title('Factor Analysis: Synthetic Data')"
   ]
  },
  {
   "cell_type": "markdown",
   "metadata": {},
   "source": [
    "* FA is unable to resolve the subgroups of interest in the mice data (again, imagine if the subgroups had not been color-coded), although it does a better job than PCA\n",
    "* FA is unable to resolve the subgroups in the synthetic data perfectly"
   ]
  },
  {
   "cell_type": "markdown",
   "metadata": {},
   "source": [
    "### Independent Component Analysis"
   ]
  },
  {
   "cell_type": "code",
   "execution_count": null,
   "metadata": {},
   "outputs": [],
   "source": [
    "from sklearn.decomposition import FastICA as ICA\n",
    "\n",
    "mdl = ICA(n_components=2)\n",
    "\n",
    "projected_data = mdl.fit_transform(target)\n",
    "plt.figure()\n",
    "plt.scatter(*projected_data.T, c=sub_group_labels, cmap=cmap2)\n",
    "plt.title('ICA: Mice Data')\n",
    "\n",
    "projected_data_ = mdl.fit_transform(target_)\n",
    "plt.figure()\n",
    "plt.scatter(*projected_data_.T, c=sub_group_labels_, cmap=cmap4)\n",
    "plt.title('ICA: Synthetic Data')"
   ]
  },
  {
   "cell_type": "markdown",
   "metadata": {},
   "source": [
    "* ICA is unable to resolve the subgroups of interest in the mice data\n",
    "* ICA is unable to resolve the subgroups in the synthetic datam"
   ]
  },
  {
   "cell_type": "code",
   "execution_count": null,
   "metadata": {},
   "outputs": [],
   "source": []
  }
 ],
 "metadata": {
  "kernelspec": {
   "display_name": "Python 3",
   "language": "python",
   "name": "python3"
  },
  "language_info": {
   "codemirror_mode": {
    "name": "ipython",
    "version": 3
   },
   "file_extension": ".py",
   "mimetype": "text/x-python",
   "name": "python",
   "nbconvert_exporter": "python",
   "pygments_lexer": "ipython3",
   "version": "3.7.3"
  }
 },
 "nbformat": 4,
 "nbformat_minor": 2
}
